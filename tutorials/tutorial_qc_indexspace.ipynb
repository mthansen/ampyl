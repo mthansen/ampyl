{
 "cells": [
  {
   "cell_type": "code",
   "execution_count": 1,
   "id": "8acc0ae6",
   "metadata": {},
   "outputs": [],
   "source": [
    "%load_ext autoreload\n",
    "%autoreload 2"
   ]
  },
  {
   "cell_type": "code",
   "execution_count": 2,
   "id": "bab093ea",
   "metadata": {},
   "outputs": [],
   "source": [
    "import numpy as np\n",
    "import ampyl"
   ]
  },
  {
   "attachments": {},
   "cell_type": "markdown",
   "id": "67f58f73",
   "metadata": {},
   "source": [
    "## Construct a QCIndexSpace\n",
    "\n",
    "As a minimal example we construct a `QCIndexSpace` and print its group-theory summary.\n",
    "\n",
    "The default is a single three-particle channel of identical scalars. The spectator-channel list (`sc_list`) within the flavor-channel space (`fcs`) then has one entry, one way for an identical scalar to spectate while the other two scatter. The `ell_set` of this spectator channel is set to include S-, D- and G-wave two-particle interactions. This leads to a $15 = 1+5+9$ dimensional angular-momentum space.\n",
    "\n",
    "The finite-volume setup (`fvs`) and three-body interaction scheme (`tbis`) are also set to default values, meaning all spectator momenta are included for which the two particle invariant mass squared is positive. The default total momentum `[0, 0, 0]` is set within the finite-volume setup (`fvs`).\n",
    "\n",
    "In the construction of the `QCIndexSpace` (`qcis`), the maximum energy `Emax` and box-size `Lmax` are specified. This leads to a maximum spectator-momentum space size of $27$, given by the number of integer three-vectors with squared-length not exceeding $3$ ($27 = 1+6+12+8$).\n",
    "\n",
    "The resulting $405 = 27\\times15$ dimensional space is projected to irreducbile representations of the octahedral-group, with parity, as summarized."
   ]
  },
  {
   "cell_type": "code",
   "execution_count": 3,
   "id": "a5e8ac1c",
   "metadata": {},
   "outputs": [
    {
     "name": "stdout",
     "output_type": "stream",
     "text": [
      "kellm space has size 405\n",
      "\n",
      "    A1PLUS  covers 16x1 = 16 slots\n",
      "    A2PLUS  covers 6x1 = 6 slots\n",
      "    EPLUS   covers 22x2 = 44 slots\n",
      "    T1PLUS  covers 20x3 = 60 slots\n",
      "    T2PLUS  covers 28x3 = 84 slots\n",
      "    A1MINUS covers 5x1 = 5 slots\n",
      "    A2MINUS covers 9x1 = 9 slots\n",
      "    EMINUS  covers 14x2 = 28 slots\n",
      "    T1MINUS covers 28x3 = 84 slots\n",
      "    T2MINUS covers 23x3 = 69 slots\n",
      "\n",
      "total is 405 \n",
      "total matches size of kellm space\n"
     ]
    }
   ],
   "source": [
    "fc = ampyl.FlavorChannel(3)\n",
    "fcs = ampyl.FlavorChannelSpace(fc_list=[fc])\n",
    "fcs.sc_list[0].ell_set = [0, 2, 4]\n",
    "\n",
    "fvs = ampyl.FiniteVolumeSetup()\n",
    "assert (fvs.nP == np.array([0, 0, 0])).all()\n",
    "tbis = ampyl.ThreeBodyInteractionScheme()\n",
    "\n",
    "qcis = ampyl.QCIndexSpace(fcs=fcs, fvs=fvs, tbis=tbis, Emax=5.0, Lmax=5.0)\n",
    "qcis.populate()\n",
    "print(qcis.proj_dict['summary'])"
   ]
  }
 ],
 "metadata": {
  "kernelspec": {
   "display_name": "base",
   "language": "python",
   "name": "python3"
  },
  "language_info": {
   "codemirror_mode": {
    "name": "ipython",
    "version": 3
   },
   "file_extension": ".py",
   "mimetype": "text/x-python",
   "name": "python",
   "nbconvert_exporter": "python",
   "pygments_lexer": "ipython3",
   "version": "3.9.7"
  },
  "vscode": {
   "interpreter": {
    "hash": "40d3a090f54c6569ab1632332b64b2c03c39dcf918b08424e98f38b5ae0af88f"
   }
  }
 },
 "nbformat": 4,
 "nbformat_minor": 5
}
